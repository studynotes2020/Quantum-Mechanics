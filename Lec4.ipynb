{
 "cells": [
  {
   "cell_type": "markdown",
   "metadata": {},
   "source": [
    "## Lec 4\n",
    "\n",
    "1. Configuration of particle = wave function $\\Psi(x)$. In 3D, $\\Psi(x,y,z)$. If two particles, the wave function will be a function of the position of two particles $\\Psi(x_1, x_2)$\n",
    "\n",
    "\n",
    "2. The meaning of wave function is $|\\Psi(x)|^2\\ dx = $ probability of finding particle in (x, x + dx)\n",
    "\n",
    "\n",
    "3. Give$\\Psi_1(x) = \\Psi_2(x)$, also possible $\\Psi(x) = \\alpha \\Psi_1(x) + \\beta \\Psi_2(x)$\n",
    "\n",
    "\n",
    "Note: Normalize is integral over all possible position is 1. $\\int dx\\ |\\Psi(x)|^2 = 1$\n",
    "\n",
    "- All reasonable $\\Psi(x)$ are equally reasonable as wave function. Non-reasonable: not continuous, multivalue function\n",
    "\n",
    "- Some wave function are more equal. i.e. simple interpretations\n",
    "\n",
    "- Any reasonable $\\Psi(x)$ can be expressed as superposition of more equal = easily interpretable WF\n",
    "\n",
    "$$\\Psi(x) = \\frac{1}{\\sqrt{2\\pi}} \\int dk\\ \\tilde \\Psi(k) e^{ikx}$$\n",
    "\n",
    "$e^{ikx}$ is a plane wave with definite wavelength 2pi/k\n",
    "\n",
    "$$\\Psi(x) = \\int dx_0\\ \\Psi(x_0) \\delta (x-x_0)$$\n",
    "\n"
   ]
  },
  {
   "cell_type": "code",
   "execution_count": null,
   "metadata": {},
   "outputs": [],
   "source": []
  }
 ],
 "metadata": {
  "kernelspec": {
   "display_name": "Julia 1.5.0",
   "language": "julia",
   "name": "julia-1.5"
  },
  "language_info": {
   "file_extension": ".jl",
   "mimetype": "application/julia",
   "name": "julia",
   "version": "1.5.0"
  }
 },
 "nbformat": 4,
 "nbformat_minor": 4
}
