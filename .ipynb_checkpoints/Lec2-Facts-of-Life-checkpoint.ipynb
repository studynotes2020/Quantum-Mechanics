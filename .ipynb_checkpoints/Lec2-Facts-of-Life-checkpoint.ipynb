{
 "cells": [
  {
   "cell_type": "markdown",
   "metadata": {},
   "source": [
    "# Facts of Life\n",
    "\n",
    "1. Atoms Exist\n",
    "\n",
    "\n",
    "2. Randomness Exists\n",
    "\n",
    "\n",
    "3. Atomic Spectra: Discrete, Structured\n",
    "\n",
    "\n",
    "4. Photoelectric Effect\n",
    "\n",
    "\n",
    "5. Electron Diffraction\n",
    "\n",
    "\n",
    "6. Bell's Poor Inequality"
   ]
  },
  {
   "cell_type": "markdown",
   "metadata": {},
   "source": [
    "## Photoelectric Effect\n",
    "\n",
    "Prediction:\n",
    "\n",
    "- V0 greater with greater current\n",
    "- V0 independent of frequency of the incident light\n",
    "\n",
    "V0 is the voltage where the metals started to emit election\n",
    "\n",
    "Experiment: \n",
    "\n",
    "- V0 independent of light intensity\n",
    "- V0 varies linearly with frequency\n",
    "\n",
    "Light comes in chunks with definite Energy, $E = h\\nu$\n",
    "\n",
    "Intensity ~ number of packets\n",
    "\n",
    "$KE = h\\nu - W$\n",
    "\n",
    "KE - kinetic energy\n",
    "$h\\nu$ - enenrgy of photon\n",
    "W - work done to suck electron off the metals\n",
    "\n",
    "$E = cP$, energy = speed of light * momentum\n",
    "\n",
    "$\\lambda \\nu = c$, wavelength * frequency = speed of light\n",
    "\n",
    "$E = h\\nu$, energy = planck constant * wavelength\n",
    "\n",
    "then we get $P = \\frac{h}{\\lambda}$\n",
    "\n",
    "However, Young doubles-slit experiment showed light behaves like wave\n",
    "\n",
    "Wave:\n",
    "- Yes inteference\n",
    "- Not localized\n",
    "\n",
    "Particle\n",
    "- No interference\n",
    "- Are localized"
   ]
  },
  {
   "cell_type": "markdown",
   "metadata": {},
   "source": [
    "## Bell's Poor Inequality\n",
    "\n",
    "Num(Undergrads, Not blond) + Num(Blond, Not MA) $>=$ Num(Undergrad, Not MA)\n",
    "\n",
    "is equivalent of saying\n",
    "\n",
    "Num(Undergrads, Not blond, MA) + Num(Undergrads, Not blond, Not MA) \n",
    "\n",
    "+\n",
    "\n",
    "Num(Undergrads, Blond, Not MA) + Num(Not Undergrads, Blond, Not MA)\n",
    "\n",
    "$\\geq$\n",
    "\n",
    "Num(Undergrad, Blond, Not MA) + Num(Undergrad, Not Blond, Not MA)\n",
    "\n",
    "Just using simple logic and integer, we deduce the inequality. But quantum mechanics violates this\n",
    "\n",
    "For electrion, those three binary quantities are angular momentum in x, y, z axis"
   ]
  },
  {
   "cell_type": "code",
   "execution_count": null,
   "metadata": {},
   "outputs": [],
   "source": []
  }
 ],
 "metadata": {
  "kernelspec": {
   "display_name": "Julia 1.5.0",
   "language": "julia",
   "name": "julia-1.5"
  },
  "language_info": {
   "file_extension": ".jl",
   "mimetype": "application/julia",
   "name": "julia",
   "version": "1.5.0"
  }
 },
 "nbformat": 4,
 "nbformat_minor": 4
}
