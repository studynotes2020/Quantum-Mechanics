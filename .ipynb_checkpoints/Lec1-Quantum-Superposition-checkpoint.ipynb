{
 "cells": [
  {
   "cell_type": "markdown",
   "metadata": {},
   "source": [
    "# Superposition\n",
    "\n",
    "Lecture described various experiments result which defies our intuition. The phenomenon is called quantum superposition\n",
    "\n",
    "We have no idea what is quantum superposition. \n",
    "\n",
    "To develop a better understanding, we need a new language, which is called quantum mechanics\n",
    "\n",
    "Our intuition are based on large objects which has so much energy that quantum effect is negligible\n",
    "\n",
    "When we work with very small objects with very low energies, our intuition is not a reasonable guide"
   ]
  },
  {
   "cell_type": "code",
   "execution_count": null,
   "metadata": {},
   "outputs": [],
   "source": []
  }
 ],
 "metadata": {
  "kernelspec": {
   "display_name": "Julia 1.5.0",
   "language": "julia",
   "name": "julia-1.5"
  },
  "language_info": {
   "file_extension": ".jl",
   "mimetype": "application/julia",
   "name": "julia",
   "version": "1.5.0"
  }
 },
 "nbformat": 4,
 "nbformat_minor": 4
}
